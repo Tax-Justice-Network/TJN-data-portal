{
 "cells": [
  {
   "cell_type": "code",
   "execution_count": 1,
   "metadata": {},
   "outputs": [],
   "source": [
    "import pandas as pd"
   ]
  },
  {
   "cell_type": "markdown",
   "metadata": {},
   "source": [
    "# FSI DATA"
   ]
  },
  {
   "cell_type": "code",
   "execution_count": null,
   "metadata": {},
   "outputs": [],
   "source": [
    "## Pivot FSI data"
   ]
  },
  {
   "cell_type": "code",
   "execution_count": 2,
   "metadata": {},
   "outputs": [
    {
     "data": {
      "text/html": [
       "<div>\n",
       "<style scoped>\n",
       "    .dataframe tbody tr th:only-of-type {\n",
       "        vertical-align: middle;\n",
       "    }\n",
       "\n",
       "    .dataframe tbody tr th {\n",
       "        vertical-align: top;\n",
       "    }\n",
       "\n",
       "    .dataframe thead th {\n",
       "        text-align: right;\n",
       "    }\n",
       "</style>\n",
       "<table border=\"1\" class=\"dataframe\">\n",
       "  <thead>\n",
       "    <tr style=\"text-align: right;\">\n",
       "      <th></th>\n",
       "      <th>Period</th>\n",
       "      <th>Jurisdiction</th>\n",
       "      <th>Info_ID</th>\n",
       "      <th>DataType</th>\n",
       "      <th>Question</th>\n",
       "      <th>Lkup_Code</th>\n",
       "      <th>Lkup_Text</th>\n",
       "      <th>Nmbr</th>\n",
       "      <th>Text</th>\n",
       "    </tr>\n",
       "  </thead>\n",
       "  <tbody>\n",
       "    <tr>\n",
       "      <td>0</td>\n",
       "      <td>18</td>\n",
       "      <td>AD</td>\n",
       "      <td>2</td>\n",
       "      <td>Lkup</td>\n",
       "      <td>Jurisdiction Status</td>\n",
       "      <td>2</td>\n",
       "      <td>Dependent Territory</td>\n",
       "      <td>NaN</td>\n",
       "      <td>NaN</td>\n",
       "    </tr>\n",
       "    <tr>\n",
       "      <td>1</td>\n",
       "      <td>20</td>\n",
       "      <td>AD</td>\n",
       "      <td>2</td>\n",
       "      <td>Lkup</td>\n",
       "      <td>Jurisdiction Status</td>\n",
       "      <td>2</td>\n",
       "      <td>Dependent Territory</td>\n",
       "      <td>NaN</td>\n",
       "      <td>NaN</td>\n",
       "    </tr>\n",
       "    <tr>\n",
       "      <td>2</td>\n",
       "      <td>18</td>\n",
       "      <td>AD</td>\n",
       "      <td>4</td>\n",
       "      <td>Num</td>\n",
       "      <td>Population</td>\n",
       "      <td>-4</td>\n",
       "      <td>-/-</td>\n",
       "      <td>85660.000</td>\n",
       "      <td>NaN</td>\n",
       "    </tr>\n",
       "    <tr>\n",
       "      <td>3</td>\n",
       "      <td>18</td>\n",
       "      <td>AD</td>\n",
       "      <td>6</td>\n",
       "      <td>Num</td>\n",
       "      <td>HDI Rank: Human Development Index Rank</td>\n",
       "      <td>-4</td>\n",
       "      <td>-/-</td>\n",
       "      <td>34.000</td>\n",
       "      <td>NaN</td>\n",
       "    </tr>\n",
       "    <tr>\n",
       "      <td>4</td>\n",
       "      <td>18</td>\n",
       "      <td>AD</td>\n",
       "      <td>7</td>\n",
       "      <td>Num</td>\n",
       "      <td>HDI Value: Human Development Index Value</td>\n",
       "      <td>-4</td>\n",
       "      <td>-/-</td>\n",
       "      <td>0.845</td>\n",
       "      <td>NaN</td>\n",
       "    </tr>\n",
       "  </tbody>\n",
       "</table>\n",
       "</div>"
      ],
      "text/plain": [
       "   Period Jurisdiction  Info_ID DataType  \\\n",
       "0      18           AD        2     Lkup   \n",
       "1      20           AD        2     Lkup   \n",
       "2      18           AD        4      Num   \n",
       "3      18           AD        6      Num   \n",
       "4      18           AD        7      Num   \n",
       "\n",
       "                                   Question  Lkup_Code            Lkup_Text  \\\n",
       "0                       Jurisdiction Status          2  Dependent Territory   \n",
       "1                       Jurisdiction Status          2  Dependent Territory   \n",
       "2                                Population         -4                  -/-   \n",
       "3    HDI Rank: Human Development Index Rank         -4                  -/-   \n",
       "4  HDI Value: Human Development Index Value         -4                  -/-   \n",
       "\n",
       "        Nmbr Text  \n",
       "0        NaN  NaN  \n",
       "1        NaN  NaN  \n",
       "2  85660.000  NaN  \n",
       "3     34.000  NaN  \n",
       "4      0.845  NaN  "
      ]
     },
     "execution_count": 2,
     "metadata": {},
     "output_type": "execute_result"
    }
   ],
   "source": [
    "fsi = pd.read_excel(\"Country-level/Sources/FSI_MySQL_dump/20191216_Matrix_Full.xlsx\")\n",
    "fsi.head()"
   ]
  },
  {
   "cell_type": "code",
   "execution_count": null,
   "metadata": {},
   "outputs": [],
   "source": []
  }
 ],
 "metadata": {
  "kernelspec": {
   "display_name": "Python 3",
   "language": "python",
   "name": "python3"
  },
  "language_info": {
   "codemirror_mode": {
    "name": "ipython",
    "version": 3
   },
   "file_extension": ".py",
   "mimetype": "text/x-python",
   "name": "python",
   "nbconvert_exporter": "python",
   "pygments_lexer": "ipython3",
   "version": "3.7.4"
  }
 },
 "nbformat": 4,
 "nbformat_minor": 4
}
